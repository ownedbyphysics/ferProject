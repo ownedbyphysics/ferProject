{
 "cells": [
  {
   "cell_type": "code",
   "execution_count": 1,
   "id": "1987a011-771d-48a4-a635-c672ef473114",
   "metadata": {},
   "outputs": [],
   "source": [
    "# target_col = \"Loan_Status\"\n",
    "\n",
    "\n",
    "# # Filter data for Loan_Status == \"Y\" (approved loans)\n",
    "# approved_loans = df[df[target_col] == \"Y\"]\n",
    "\n",
    "# # Filter data for Loan_Status == \"N\" (rejected loans)\n",
    "# rejected_loans = df[df[target_col] == \"N\"]\n",
    "\n",
    "# with warnings.catch_warnings():\n",
    "#     warnings.filterwarnings('ignore')\n",
    "\n",
    "        \n",
    "    \n",
    "#     fig, axes = plt.subplots(nrows=1, ncols=len(numerical_cols), figsize=(18, 6))\n",
    "\n",
    "#     # Create distribution plots for each numeric column by Loan_Status\n",
    "#     for i, col in enumerate(numerical_cols):\n",
    "#         sns.histplot(data=approved_loans, x=col, kde=True, color=\"green\", label=\"Approved Loans\", ax=axes[i])\n",
    "#         sns.histplot(data=rejected_loans, x=col, kde=True, color=\"red\", label=\"Rejected Loans\", ax=axes[i])\n",
    "#         axes[i].set_title(f\"Distribution of {col} by {target_col}\")\n",
    "#         axes[i].set_xlabel(col)\n",
    "#         axes[i].set_ylabel(\"Density\")\n",
    "#         axes[i].legend()\n",
    "\n",
    "#     # Adjust spacing between subplots\n",
    "#     plt.tight_layout()\n",
    "\n",
    "#     # Show the combined plot\n",
    "#     plt.show()\n"
   ]
  },
  {
   "cell_type": "code",
   "execution_count": null,
   "id": "1784743f-3b39-4d89-b6d9-38c735188447",
   "metadata": {},
   "outputs": [],
   "source": [
    "# categorical_cols = df.select_dtypes(include=['object']).columns\n",
    "# categorical_cols = categorical_cols.to_list()\n",
    "# categorical_cols = categorical_cols[1:]\n",
    "\n",
    "# num_plots = len(categorical_cols)\n",
    "# num_cols = 2\n",
    "# num_rows = (num_plots + num_cols - 1) // num_cols\n",
    "\n",
    "# fig, axes = plt.subplots(num_rows, num_cols, figsize=(12, num_rows*6))\n",
    "# axes = axes.flatten()\n",
    "\n",
    "# # Plot contingency tables (cross-tabulations) for each categorical variable\n",
    "# for i, col in enumerate(categorical_cols):\n",
    "#     cross_tab = pd.crosstab(df_without_id[col], df_without_id['Loan_Status'])\n",
    "#     sns.heatmap(cross_tab, annot=True, fmt='d', cmap='Blues', ax=axes[i])\n",
    "#     axes[i].set_title(f'Contingency Table: {col} vs. Loan_Status')\n",
    "#     axes[i].set_xlabel('Loan Status')\n",
    "#     axes[i].set_ylabel(col)\n",
    "#     axes[i].tick_params(axis='x', rotation=45)\n",
    "\n",
    "# # Hide empty subplots\n",
    "# for j in range(num_plots, len(axes)):\n",
    "#     axes[j].axis('off')\n",
    "\n",
    "# plt.tight_layout()\n",
    "# plt.show()"
   ]
  }
 ],
 "metadata": {
  "kernelspec": {
   "display_name": "Python 3 (ipykernel)",
   "language": "python",
   "name": "python3"
  },
  "language_info": {
   "codemirror_mode": {
    "name": "ipython",
    "version": 3
   },
   "file_extension": ".py",
   "mimetype": "text/x-python",
   "name": "python",
   "nbconvert_exporter": "python",
   "pygments_lexer": "ipython3",
   "version": "3.11.7"
  }
 },
 "nbformat": 4,
 "nbformat_minor": 5
}
