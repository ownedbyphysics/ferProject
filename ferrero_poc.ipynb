{
 "cells": [
  {
   "cell_type": "markdown",
   "metadata": {},
   "source": [
    "<h1> Ferrero interview take-home project"
   ]
  },
  {
   "cell_type": "markdown",
   "metadata": {},
   "source": [
    "Since there was no column meaning explanation given I will use this markdown cell to write down the column meanings as I understand them, so there is a consistency for the readers as they go through the notebook"
   ]
  },
  {
   "cell_type": "markdown",
   "metadata": {},
   "source": [
    "<b>Loan_ID</b>: Uniquely indentifies the number of the loan case\n",
    "\n",
    "<b>Gender</b>: The gender of the applicant\n",
    "\n",
    "<b>Married</b>: The marital status\n",
    "\n",
    "<b>Dependents</b>: The number of children in the family\n",
    "\n",
    "<b>Education</b>: The level of education of the applicant\n",
    "\n",
    "<b>Self_Employed</b>: Is the applicant self-employed?\n",
    "\n",
    "<b>ApplicantIncome</b>: Applicants income (assuming monthly)\n",
    "\n",
    "<b>CoapplicantIncome</b>:  Co-applicants income (assuming monthly)\n",
    "\n",
    "<b>LoanAmount</b>: The loan amount (assuming thousands)\n",
    "\n",
    "<b>Loan_Amount_Term</b>: How long they will be paying off the loan (assuming months)\n",
    "\n",
    "<b>Credit_History</b>: The creditworthiness of the applicant.\n",
    "\n",
    "<b>Property_Area</b>: Where the applicant resides.\n",
    "\n",
    "<b>Loan_Status</b>: The decision for the loan application"
   ]
  },
  {
   "cell_type": "markdown",
   "metadata": {},
   "source": [
    "---------------------------------------"
   ]
  },
  {
   "cell_type": "code",
   "execution_count": 114,
   "metadata": {},
   "outputs": [],
   "source": [
    "import shap\n",
    "import warnings\n",
    "import numpy as np\n",
    "import pandas as pd\n",
    "import seaborn as sns\n",
    "from joblib import dump\n",
    "import matplotlib.pyplot as plt\n",
    "from sklearn.pipeline import Pipeline\n",
    "from sklearn.impute import KNNImputer\n",
    "from sklearn.impute import SimpleImputer\n",
    "from sklearn.compose import ColumnTransformer\n",
    "from sklearn.preprocessing import MinMaxScaler\n",
    "from sklearn.preprocessing import OneHotEncoder\n",
    "from sklearn.model_selection import GridSearchCV\n",
    "from sklearn.ensemble import RandomForestClassifier\n",
    "from sklearn.model_selection import train_test_split\n",
    "from sklearn.model_selection import cross_val_score, KFold\n",
    "from sklearn.preprocessing import StandardScaler, OrdinalEncoder\n",
    "from statsmodels.stats.outliers_influence import variance_inflation_factor\n",
    "from sklearn.metrics import accuracy_score, precision_score, recall_score, f1_score, confusion_matrix, make_scorer"
   ]
  },
  {
   "cell_type": "code",
   "execution_count": 21,
   "metadata": {},
   "outputs": [],
   "source": [
    "df_train_initial = pd.read_csv('loan_sanction_train.csv')\n",
    "df_test_initial = pd.read_csv('loan_sanction_test.csv')"
   ]
  },
  {
   "cell_type": "markdown",
   "metadata": {},
   "source": [
    "<h1> Excercise 1"
   ]
  },
  {
   "cell_type": "markdown",
   "metadata": {},
   "source": [
    "<h3>Questions 1-2 ~ Data observe"
   ]
  },
  {
   "cell_type": "code",
   "execution_count": 22,
   "metadata": {},
   "outputs": [
    {
     "name": "stdout",
     "output_type": "stream",
     "text": [
      "Data shape: (614, 13)\n"
     ]
    }
   ],
   "source": [
    "print('Data shape:', df_train_initial.shape)"
   ]
  },
  {
   "cell_type": "code",
   "execution_count": 23,
   "metadata": {},
   "outputs": [
    {
     "data": {
      "text/plain": [
       "'Data shape:'"
      ]
     },
     "metadata": {},
     "output_type": "display_data"
    },
    {
     "data": {
      "text/plain": [
       "(614, 13)"
      ]
     },
     "metadata": {},
     "output_type": "display_data"
    },
    {
     "data": {
      "text/html": [
       "<div>\n",
       "<style scoped>\n",
       "    .dataframe tbody tr th:only-of-type {\n",
       "        vertical-align: middle;\n",
       "    }\n",
       "\n",
       "    .dataframe tbody tr th {\n",
       "        vertical-align: top;\n",
       "    }\n",
       "\n",
       "    .dataframe thead th {\n",
       "        text-align: right;\n",
       "    }\n",
       "</style>\n",
       "<table border=\"1\" class=\"dataframe\">\n",
       "  <thead>\n",
       "    <tr style=\"text-align: right;\">\n",
       "      <th></th>\n",
       "      <th>Loan_ID</th>\n",
       "      <th>Gender</th>\n",
       "      <th>Married</th>\n",
       "      <th>Dependents</th>\n",
       "      <th>Education</th>\n",
       "      <th>Self_Employed</th>\n",
       "      <th>ApplicantIncome</th>\n",
       "      <th>CoapplicantIncome</th>\n",
       "      <th>LoanAmount</th>\n",
       "      <th>Loan_Amount_Term</th>\n",
       "      <th>Credit_History</th>\n",
       "      <th>Property_Area</th>\n",
       "      <th>Loan_Status</th>\n",
       "    </tr>\n",
       "  </thead>\n",
       "  <tbody>\n",
       "    <tr>\n",
       "      <th>0</th>\n",
       "      <td>LP001002</td>\n",
       "      <td>Male</td>\n",
       "      <td>No</td>\n",
       "      <td>0</td>\n",
       "      <td>Graduate</td>\n",
       "      <td>No</td>\n",
       "      <td>5849</td>\n",
       "      <td>0.0</td>\n",
       "      <td>NaN</td>\n",
       "      <td>360.0</td>\n",
       "      <td>1.0</td>\n",
       "      <td>Urban</td>\n",
       "      <td>Y</td>\n",
       "    </tr>\n",
       "    <tr>\n",
       "      <th>1</th>\n",
       "      <td>LP001003</td>\n",
       "      <td>Male</td>\n",
       "      <td>Yes</td>\n",
       "      <td>1</td>\n",
       "      <td>Graduate</td>\n",
       "      <td>No</td>\n",
       "      <td>4583</td>\n",
       "      <td>1508.0</td>\n",
       "      <td>128.0</td>\n",
       "      <td>360.0</td>\n",
       "      <td>1.0</td>\n",
       "      <td>Rural</td>\n",
       "      <td>N</td>\n",
       "    </tr>\n",
       "    <tr>\n",
       "      <th>2</th>\n",
       "      <td>LP001005</td>\n",
       "      <td>Male</td>\n",
       "      <td>Yes</td>\n",
       "      <td>0</td>\n",
       "      <td>Graduate</td>\n",
       "      <td>Yes</td>\n",
       "      <td>3000</td>\n",
       "      <td>0.0</td>\n",
       "      <td>66.0</td>\n",
       "      <td>360.0</td>\n",
       "      <td>1.0</td>\n",
       "      <td>Urban</td>\n",
       "      <td>Y</td>\n",
       "    </tr>\n",
       "    <tr>\n",
       "      <th>3</th>\n",
       "      <td>LP001006</td>\n",
       "      <td>Male</td>\n",
       "      <td>Yes</td>\n",
       "      <td>0</td>\n",
       "      <td>Not Graduate</td>\n",
       "      <td>No</td>\n",
       "      <td>2583</td>\n",
       "      <td>2358.0</td>\n",
       "      <td>120.0</td>\n",
       "      <td>360.0</td>\n",
       "      <td>1.0</td>\n",
       "      <td>Urban</td>\n",
       "      <td>Y</td>\n",
       "    </tr>\n",
       "    <tr>\n",
       "      <th>4</th>\n",
       "      <td>LP001008</td>\n",
       "      <td>Male</td>\n",
       "      <td>No</td>\n",
       "      <td>0</td>\n",
       "      <td>Graduate</td>\n",
       "      <td>No</td>\n",
       "      <td>6000</td>\n",
       "      <td>0.0</td>\n",
       "      <td>141.0</td>\n",
       "      <td>360.0</td>\n",
       "      <td>1.0</td>\n",
       "      <td>Urban</td>\n",
       "      <td>Y</td>\n",
       "    </tr>\n",
       "  </tbody>\n",
       "</table>\n",
       "</div>"
      ],
      "text/plain": [
       "    Loan_ID Gender Married Dependents     Education Self_Employed  \\\n",
       "0  LP001002   Male      No          0      Graduate            No   \n",
       "1  LP001003   Male     Yes          1      Graduate            No   \n",
       "2  LP001005   Male     Yes          0      Graduate           Yes   \n",
       "3  LP001006   Male     Yes          0  Not Graduate            No   \n",
       "4  LP001008   Male      No          0      Graduate            No   \n",
       "\n",
       "   ApplicantIncome  CoapplicantIncome  LoanAmount  Loan_Amount_Term  \\\n",
       "0             5849                0.0         NaN             360.0   \n",
       "1             4583             1508.0       128.0             360.0   \n",
       "2             3000                0.0        66.0             360.0   \n",
       "3             2583             2358.0       120.0             360.0   \n",
       "4             6000                0.0       141.0             360.0   \n",
       "\n",
       "   Credit_History Property_Area Loan_Status  \n",
       "0             1.0         Urban           Y  \n",
       "1             1.0         Rural           N  \n",
       "2             1.0         Urban           Y  \n",
       "3             1.0         Urban           Y  \n",
       "4             1.0         Urban           Y  "
      ]
     },
     "metadata": {},
     "output_type": "display_data"
    }
   ],
   "source": [
    "df_train = df_train_initial.copy()\n",
    "df_test = df_test_initial.copy()\n",
    "\n",
    "display('Data shape:', df_train.shape, \n",
    "        df_train.head(5))"
   ]
  },
  {
   "cell_type": "code",
   "execution_count": 24,
   "metadata": {},
   "outputs": [
    {
     "name": "stdout",
     "output_type": "stream",
     "text": [
      "Column types of the data:\n",
      "Loan_ID               object\n",
      "Gender                object\n",
      "Married               object\n",
      "Dependents            object\n",
      "Education             object\n",
      "Self_Employed         object\n",
      "ApplicantIncome        int64\n",
      "CoapplicantIncome    float64\n",
      "LoanAmount           float64\n",
      "Loan_Amount_Term     float64\n",
      "Credit_History       float64\n",
      "Property_Area         object\n",
      "Loan_Status           object\n",
      "dtype: object\n"
     ]
    }
   ],
   "source": [
    "print(\"Column types of the data:\")\n",
    "print(df_train.dtypes)"
   ]
  },
  {
   "cell_type": "code",
   "execution_count": 25,
   "metadata": {},
   "outputs": [
    {
     "name": "stdout",
     "output_type": "stream",
     "text": [
      "no duplicated rows\n",
      "binary columns passed\n",
      "\n",
      "property area:  ['Rural' 'Urban' 'Semiurban']\n",
      "dependents:  ['1' '0' '2' '3+']\n",
      "gender:  ['Male' 'Female']\n",
      "\n",
      "Outliers detected in column 'ApplicantIncome':\n",
      "Outliers detected in column 'CoapplicantIncome':\n",
      "Outliers detected in column 'LoanAmount':\n",
      "Outliers detected in column 'Loan_Amount_Term':\n",
      "Outliers detected in column 'Credit_History':\n"
     ]
    }
   ],
   "source": [
    "def check_for_odd_values(data):\n",
    "    \"\"\"Sometimes searching for null is not enough \n",
    "    as there have been cases of finding hardcoded 'null' strings in the data \n",
    "    or irrelevant words especially in non-validated data systems\n",
    "    I will use this ugly function just once to check the values of each column for wrong inputs\n",
    "    and check for some inconsistencies\n",
    "    \"\"\"\n",
    "    #Check for duplicates\n",
    "    if data.duplicated(keep=False).sum() == 0:\n",
    "        print('no duplicated rows')\n",
    "\n",
    "    #Values check\n",
    "    data = data.dropna()\n",
    "    unique_ID = data['Loan_ID'].is_unique\n",
    "    \n",
    "    married = data['Married'].nunique()\n",
    "    education = data['Education'].nunique()\n",
    "    self_employed = data['Self_Employed'].nunique()\n",
    "    credit = data['Credit_History'].nunique()\n",
    "    try:\n",
    "        label = data['Loan_Status'].nunique()\n",
    "    except:\n",
    "        label=2\n",
    "\n",
    "    \n",
    "    if unique_ID and education == married == credit == label == 2:\n",
    "        print('binary columns passed')\n",
    "    print('')\n",
    "    print('property area: ', data['Property_Area'].unique())\n",
    "    print('dependents: ', data['Dependents'].unique())\n",
    "    print('gender: ', data['Gender'].unique())\n",
    "    print('')\n",
    "    \n",
    "    #Outliers\n",
    "    threshold = 1.5\n",
    "    for column in data.select_dtypes(include=['number']):\n",
    "        q1 = data[column].quantile(0.25)\n",
    "        q3 = data[column].quantile(0.75)\n",
    "        iqr = q3 - q1\n",
    "        lower_bound = q1 - threshold * iqr\n",
    "        upper_bound = q3 + threshold * iqr\n",
    "        outliers = data[(data[column] < lower_bound) | (data[column] > upper_bound)]\n",
    "        if not outliers.empty:\n",
    "            print(f\"Outliers detected in column '{column}':\")\n",
    "    \n",
    "check_for_odd_values(df_train)"
   ]
  },
  {
   "cell_type": "code",
   "execution_count": 26,
   "metadata": {},
   "outputs": [
    {
     "name": "stdout",
     "output_type": "stream",
     "text": [
      "no duplicated rows\n",
      "binary columns passed\n",
      "\n",
      "property area:  ['Urban' 'Semiurban' 'Rural']\n",
      "dependents:  ['0' '1' '2' '3+']\n",
      "gender:  ['Male' 'Female']\n",
      "\n",
      "Outliers detected in column 'ApplicantIncome':\n",
      "Outliers detected in column 'CoapplicantIncome':\n",
      "Outliers detected in column 'LoanAmount':\n",
      "Outliers detected in column 'Loan_Amount_Term':\n",
      "Outliers detected in column 'Credit_History':\n"
     ]
    }
   ],
   "source": [
    "check_for_odd_values(df_test)"
   ]
  },
  {
   "cell_type": "markdown",
   "metadata": {},
   "source": [
    "Except for the null values the other inputs of the dataset seem valid.\n",
    "There is an indication for outliers but we will examine it better with visualizations later"
   ]
  },
  {
   "cell_type": "markdown",
   "metadata": {},
   "source": [
    "------------------------------------------"
   ]
  },
  {
   "cell_type": "markdown",
   "metadata": {},
   "source": [
    "<h2>Question 3-4 ~ Handling Null Values"
   ]
  },
  {
   "cell_type": "code",
   "execution_count": 27,
   "metadata": {},
   "outputs": [
    {
     "name": "stdout",
     "output_type": "stream",
     "text": [
      "Null values in each column:\n",
      "                  Percentage  Null Count\n",
      "Gender                  2.12          13\n",
      "Married                 0.49           3\n",
      "Dependents              2.44          15\n",
      "Self_Employed           5.21          32\n",
      "LoanAmount              3.58          22\n",
      "Loan_Amount_Term        2.28          14\n",
      "Credit_History          8.14          50\n"
     ]
    }
   ],
   "source": [
    "null_percentage = df_train.isnull().mean() * 100\n",
    "null_percentage = round(null_percentage, 2)\n",
    " \n",
    "null_counts = df_train.isnull().sum()\n",
    "null_info = pd.DataFrame({'Percentage': null_percentage, 'Null Count': null_counts})\n",
    "\n",
    "print(\"Null values in each column:\")\n",
    "print(null_info[null_info['Null Count'] > 0])"
   ]
  },
  {
   "cell_type": "code",
   "execution_count": 28,
   "metadata": {},
   "outputs": [
    {
     "data": {
      "image/png": "[encoded data removed]",
      "text/plain": [
       "<Figure size 864x288 with 2 Axes>"
      ]
     },
     "metadata": {
      "needs_background": "light"
     },
     "output_type": "display_data"
    }
   ],
   "source": [
    "plt.figure(figsize=(12, 4))\n",
    "plt.subplot(121)\n",
    "sns.heatmap(df_train.isnull(), cmap='viridis', cbar=False)\n",
    "plt.title('Null Values in train data')\n",
    "\n",
    "plt.subplot(122)\n",
    "sns.heatmap(df_test.isnull(), cmap='viridis', cbar=False)\n",
    "plt.title('Null Values in test data')\n",
    "plt.show()"
   ]
  },
  {
   "cell_type": "markdown",
   "metadata": {},
   "source": [
    "<h5> Lets examine ways to address the null values problem"
   ]
  },
  {
   "cell_type": "markdown",
   "metadata": {},
   "source": [
    "1. Deletion: Remove rows or columns with null values. This is suitable when the null values are relatively few compared to the total dataset and removing them won't significantly affect the analysis."
   ]
  },
  {
   "cell_type": "code",
   "execution_count": 29,
   "metadata": {},
   "outputs": [
    {
     "data": {
      "text/plain": [
       "0.21824104234527686"
      ]
     },
     "execution_count": 29,
     "metadata": {},
     "output_type": "execute_result"
    }
   ],
   "source": [
    "1 - df_train.dropna().shape[0] / df_train.shape[0] "
   ]
  },
  {
   "cell_type": "markdown",
   "metadata": {},
   "source": [
    "As anyone can see deleting all rows containing null values results in deleting around 22% of our dataset. This is a large percentage, especially for this dataset which is relatively small in the first place"
   ]
  },
  {
   "cell_type": "markdown",
   "metadata": {},
   "source": [
    "2. Forward or Backward Fill: Use the value from the previous or next row to fill null values"
   ]
  },
  {
   "cell_type": "markdown",
   "metadata": {},
   "source": [
    "This is a technique that should be used in othe types of dataset such us time series where the data of the previous row is highly associated with the next one"
   ]
  },
  {
   "cell_type": "markdown",
   "metadata": {},
   "source": [
    "3. Predictive Modeling: Use machine learning algorithms to predict missing values based on other features in the dataset."
   ]
  },
  {
   "cell_type": "markdown",
   "metadata": {},
   "source": [
    "Basically the scope is to train a model to predict the missing values based on other features in the data. For example KNN imputation. I would like to give this a a shot but maybe it exceeds the scope of the porject."
   ]
  },
  {
   "cell_type": "markdown",
   "metadata": {},
   "source": [
    "4. Statistical Imputation: Replace null values with a suitable substitute, such as the mean, median, mode, or a constant value.\n",
    "   In order to be in place to determine a substitute strategy we should take a quick look to the distributions of the null columns."
   ]
  },
  {
   "cell_type": "code",
   "execution_count": 30,
   "metadata": {},
   "outputs": [
    {
     "data": {
      "image/png": "[encoded data removed]",
      "text/plain": [
       "<Figure size 720x432 with 8 Axes>"
      ]
     },
     "metadata": {
      "needs_background": "light"
     },
     "output_type": "display_data"
    }
   ],
   "source": [
    "columns_with_nulls = [col for col in df_train.columns if df_train[col].isnull().any()]\n",
    "df_without_id = df_train.drop('Loan_ID', axis =1)\n",
    "\n",
    "import warnings\n",
    "with warnings.catch_warnings():\n",
    "    warnings.filterwarnings('ignore')\n",
    "\n",
    "    num_cols = 4 \n",
    "    num_rows = (len(columns_with_nulls) + num_cols - 1) // num_cols \n",
    "\n",
    "    fig, axes = plt.subplots(num_rows, num_cols, figsize=(10, 3*num_rows))\n",
    "    axes = axes.flatten()\n",
    "\n",
    "    for i, col in enumerate(df_train[columns_with_nulls]):\n",
    "        if df_without_id[col].dtype == 'object':\n",
    "            sns.countplot(data=df_without_id, x=col, ax=axes[i])\n",
    "            #axes[i].set_title(f'Distribution of {col}')\n",
    "            axes[i].set_title(col)\n",
    "            axes[i].tick_params(axis='x', rotation=45)\n",
    "        else:\n",
    "            sns.histplot(data=df_without_id, x=col, kde=True, ax=axes[i])\n",
    "            axes[i].set_title(col)\n",
    "\n",
    "    # Hide the empty\n",
    "    for j in range(i+1, len(axes)):\n",
    "        axes[j].axis('off')\n",
    "\n",
    "    plt.tight_layout()\n",
    "    plt.show()"
   ]
  },
  {
   "cell_type": "markdown",
   "metadata": {},
   "source": [
    "Most of the categorical columns have a dominant class and I believe it is a good approach to follow the \"most frequent\" strategy. \n",
    "Similarly I will impute the numerical columns with the mean value."
   ]
  },
  {
   "cell_type": "code",
   "execution_count": 31,
   "metadata": {},
   "outputs": [],
   "source": [
    "def fixNull(data):\n",
    "    \"\"\"Helper function to fillna() \n",
    "       with different techniques depending on the column\n",
    "    \"\"\"\n",
    "    null_categorical_cols = list(data[columns_with_nulls].select_dtypes(include=['object']).columns)\n",
    "    null_numerical_cols = list(data[columns_with_nulls].drop(['Credit_History', 'Loan_Amount_Term'], axis=1).select_dtypes(include=['float64', 'int64']).columns) # I should treat credit history separately\n",
    "    \n",
    "    # Categorical Impute\n",
    "    cat_imputer = SimpleImputer(strategy='most_frequent')\n",
    "    data[null_categorical_cols] = cat_imputer.fit_transform(data[null_categorical_cols])\n",
    "    \n",
    "    # Numerical Impute\n",
    "    num_imputer = SimpleImputer(strategy='mean')\n",
    "    data[null_numerical_cols] = num_imputer.fit_transform(data[null_numerical_cols])\n",
    "         \n",
    "    # Loan Amount Term\n",
    "    data['Loan_Amount_Term'].fillna(data['Loan_Amount_Term'].mode()[0], inplace=True)\n",
    "    data['Credit_History'].fillna(data['Credit_History'].mode()[0], inplace=True)\n",
    "\n",
    "    return data\n",
    "\n",
    "df_train = fixNull(df_train)\n",
    "df_test = fixNull(df_test)"
   ]
  },
  {
   "cell_type": "markdown",
   "metadata": {},
   "source": [
    "For the credit history I suspect that it is the most prominent feature and highly correlated with the target so I will try a predictive imputation that \n",
    "will consider the relationships of the 'Credit Historly' column with other columns in the dataset based on distance metrics, and accordingly it will impute it."
   ]
  },
  {
   "cell_type": "code",
   "execution_count": 32,
   "metadata": {},
   "outputs": [],
   "source": [
    "# # Credit History Impute\n",
    "# imputer = KNNImputer(n_neighbors=5, weights=\"distance\", metric=\"nan_euclidean\", strategy=\"most_frequent\")\n",
    "# df_train['Credit_History'] = imputer.fit_transform(df_train[['Credit_History']])"
   ]
  },
  {
   "cell_type": "code",
   "execution_count": 33,
   "metadata": {},
   "outputs": [
    {
     "name": "stdout",
     "output_type": "stream",
     "text": [
      "Train dataset imputed successfully, no null found\n",
      "Test dataset imputed successfully, no null found\n"
     ]
    }
   ],
   "source": [
    "if df_train.isnull().sum().sum()==0:\n",
    "    print('Train dataset imputed successfully, no null found')\n",
    "\n",
    "if df_train.isnull().sum().sum()==0:\n",
    "    print('Test dataset imputed successfully, no null found')"
   ]
  },
  {
   "cell_type": "markdown",
   "metadata": {},
   "source": [
    "The dataset is null-free, so lets do some basic EDA to get a closer view to the data"
   ]
  },
  {
   "cell_type": "code",
   "execution_count": 34,
   "metadata": {},
   "outputs": [
    {
     "name": "stdout",
     "output_type": "stream",
     "text": [
      "categorical ['Gender', 'Married', 'Dependents', 'Education', 'Self_Employed', 'Property_Area', 'Loan_Status']\n",
      "numerical ['ApplicantIncome', 'CoapplicantIncome', 'LoanAmount', 'Loan_Amount_Term', 'Credit_History']\n"
     ]
    }
   ],
   "source": [
    "# Loan_ID is no usefull to the analysis\n",
    "df_train.drop(columns=['Loan_ID'], inplace=True)\n",
    "df_test.drop(columns=['Loan_ID'], inplace=True)\n",
    "\n",
    "categorical_cols = list(df_train.select_dtypes(include=['object']).columns)\n",
    "numerical_cols = list(df_train.select_dtypes(include=['float64', 'int64']).columns)\n",
    "\n",
    "print('categorical', categorical_cols)\n",
    "print('numerical', numerical_cols)"
   ]
  },
  {
   "cell_type": "markdown",
   "metadata": {},
   "source": [
    "----------------------"
   ]
  },
  {
   "cell_type": "markdown",
   "metadata": {},
   "source": [
    "<h2>Question 5 ~ EDA"
   ]
  },
  {
   "cell_type": "markdown",
   "metadata": {},
   "source": [
    "<h3> Outlier detection"
   ]
  },
  {
   "cell_type": "code",
   "execution_count": 35,
   "metadata": {},
   "outputs": [
    {
     "data": {
      "image/png": "[encoded data removed]",
      "text/plain": [
       "<Figure size 864x216 with 2 Axes>"
      ]
     },
     "metadata": {
      "needs_background": "light"
     },
     "output_type": "display_data"
    },
    {
     "name": "stdout",
     "output_type": "stream",
     "text": [
      "\n"
     ]
    },
    {
     "data": {
      "image/png": "[encoded data removed]",
      "text/plain": [
       "<Figure size 864x216 with 2 Axes>"
      ]
     },
     "metadata": {
      "needs_background": "light"
     },
     "output_type": "display_data"
    },
    {
     "name": "stdout",
     "output_type": "stream",
     "text": [
      "\n"
     ]
    },
    {
     "data": {
      "image/png": "[encoded data removed]",
      "text/plain": [
       "<Figure size 864x216 with 2 Axes>"
      ]
     },
     "metadata": {
      "needs_background": "light"
     },
     "output_type": "display_data"
    }
   ],
   "source": [
    "with warnings.catch_warnings():\n",
    "    warnings.filterwarnings('ignore')\n",
    "\n",
    "    plt.subplot(121)\n",
    "    sns.distplot(df_train['ApplicantIncome']);\n",
    "    \n",
    "    plt.subplot(122)\n",
    "    df_train['ApplicantIncome'].plot.box(figsize=(12,3))\n",
    "    plt.show()\n",
    "    print('')\n",
    "    \n",
    "    plt.subplot(121)\n",
    "    sns.distplot(df_train['CoapplicantIncome']);\n",
    "    \n",
    "    plt.subplot(122)\n",
    "    df_train['CoapplicantIncome'].plot.box(figsize=(12,3))\n",
    "    \n",
    "    plt.show()\n",
    "    print('')\n",
    "\n",
    "    plt.subplot(121)\n",
    "    sns.distplot(df_train['LoanAmount']);\n",
    "    \n",
    "    plt.subplot(122)\n",
    "    df_train['LoanAmount'].plot.box(figsize=(12,3))\n",
    "    \n",
    "    plt.show()"
   ]
  },
  {
   "cell_type": "markdown",
   "metadata": {},
   "source": [
    "It is visible through these graphs that all these 3 numerical variables contain outliers that may cause trouble at the model section. \n",
    "The distribution is right-skewed (positive skewness) especially in the 2 incomes variables. We will deal with that before the model part"
   ]
  },
  {
   "cell_type": "code",
   "execution_count": 36,
   "metadata": {},
   "outputs": [
    {
     "data": {
      "text/plain": [
       "<Figure size 720x864 with 0 Axes>"
      ]
     },
     "metadata": {},
     "output_type": "display_data"
    },
    {
     "data": {
      "image/png": "[encoded data removed]",
      "text/plain": [
       "<Figure size 720x576 with 8 Axes>"
      ]
     },
     "metadata": {
      "needs_background": "light"
     },
     "output_type": "display_data"
    }
   ],
   "source": [
    "plt.figure(figsize=(10, 12))\n",
    "plt.figure(figsize=(10, 8))\n",
    "plt.subplots_adjust(wspace=0.8, hspace=0.5) \n",
    "plt.subplot(331)\n",
    "\n",
    "sns.countplot(df_train, x=\"Gender\" , hue=\"Loan_Status\");\n",
    "\n",
    "plt.subplot(332)\n",
    "sns.countplot(df_train, x=\"Education\" , hue=\"Loan_Status\");\n",
    "\n",
    "plt.subplot(333)\n",
    "sns.countplot(df_train, x=\"Married\" , hue=\"Loan_Status\");\n",
    "\n",
    "plt.subplot(334)\n",
    "sns.countplot(df_train, x=\"Dependents\" , hue=\"Loan_Status\");\n",
    "\n",
    "plt.subplot(335)\n",
    "sns.countplot(df_train, x=\"Self_Employed\" , hue=\"Loan_Status\");\n",
    "\n",
    "plt.subplot(336)\n",
    "sns.countplot(df_train, x=\"Property_Area\" , hue=\"Loan_Status\");\n",
    "\n",
    "plt.subplot(3,3,(7, 8))\n",
    "sns.countplot(df_train, x=\"Loan_Amount_Term\" , hue=\"Loan_Status\");\n",
    "                            \n",
    "plt.subplot(3,3,9)\n",
    "sns.countplot(df_train, x=\"Credit_History\" , hue=\"Loan_Status\");"
   ]
  },
  {
   "cell_type": "code",
   "execution_count": 20,
   "metadata": {},
   "outputs": [
    {
     "data": {
      "image/png": "[encoded data removed]",
      "text/plain": [
       "<Figure size 432x864 with 3 Axes>"
      ]
     },
     "metadata": {
      "needs_background": "light"
     },
     "output_type": "display_data"
    }
   ],
   "source": [
    "distribution_list_num = ['ApplicantIncome', 'CoapplicantIncome', 'LoanAmount']\n",
    "fig, axes = plt.subplots(nrows=len(distribution_list_num), ncols=1, figsize=(6, 4 * len(distribution_list_num)))\n",
    "\n",
    "# Iterate over numerical columns and plot distribution for each\n",
    "for i, col in enumerate(distribution_list_num):\n",
    "    sns.histplot(data=df_train, x=col, hue='Loan_Status', kde=True, ax=axes[i])\n",
    "    axes[i].set_title(f'Distribution of {col} by Loan_Status')\n",
    "    axes[i].set_xlabel(col)\n",
    "    axes[i].set_ylabel('Density')\n",
    "\n",
    "plt.tight_layout()\n",
    "plt.show()"
   ]
  },
  {
   "cell_type": "markdown",
   "metadata": {},
   "source": [
    "-----------------------------"
   ]
  },
  {
   "cell_type": "markdown",
   "metadata": {},
   "source": [
    "<h2>Questions 6-10 ~ Preprocessing before the modeling part"
   ]
  },
  {
   "cell_type": "markdown",
   "metadata": {},
   "source": [
    "Check for multicoliniarity"
   ]
  },
  {
   "cell_type": "code",
   "execution_count": 37,
   "metadata": {},
   "outputs": [
    {
     "data": {
      "image/png": "[encoded data removed]",
      "text/plain": [
       "<Figure size 432x288 with 2 Axes>"
      ]
     },
     "metadata": {
      "needs_background": "light"
     },
     "output_type": "display_data"
    }
   ],
   "source": [
    "df_cor_num = df_train[['ApplicantIncome', 'CoapplicantIncome', 'LoanAmount']]\n",
    "correlation_matrix =df_cor_num.corr()\n",
    "\n",
    "# Step 2: Visualize Correlation Matrix\n",
    "sns.heatmap(correlation_matrix, annot=True, cmap=\"coolwarm\", fmt=\".2f\")\n",
    "plt.title(\"Correlation Matrix Heatmap\")\n",
    "plt.show()"
   ]
  },
  {
   "cell_type": "code",
   "execution_count": 38,
   "metadata": {},
   "outputs": [
    {
     "data": {
      "text/html": [
       "<div>\n",
       "<style scoped>\n",
       "    .dataframe tbody tr th:only-of-type {\n",
       "        vertical-align: middle;\n",
       "    }\n",
       "\n",
       "    .dataframe tbody tr th {\n",
       "        vertical-align: top;\n",
       "    }\n",
       "\n",
       "    .dataframe thead th {\n",
       "        text-align: right;\n",
       "    }\n",
       "</style>\n",
       "<table border=\"1\" class=\"dataframe\">\n",
       "  <thead>\n",
       "    <tr style=\"text-align: right;\">\n",
       "      <th></th>\n",
       "      <th>Variable</th>\n",
       "      <th>VIF</th>\n",
       "    </tr>\n",
       "  </thead>\n",
       "  <tbody>\n",
       "    <tr>\n",
       "      <th>0</th>\n",
       "      <td>ApplicantIncome</td>\n",
       "      <td>2.834857</td>\n",
       "    </tr>\n",
       "    <tr>\n",
       "      <th>1</th>\n",
       "      <td>CoapplicantIncome</td>\n",
       "      <td>1.451167</td>\n",
       "    </tr>\n",
       "    <tr>\n",
       "      <th>2</th>\n",
       "      <td>LoanAmount</td>\n",
       "      <td>3.564141</td>\n",
       "    </tr>\n",
       "  </tbody>\n",
       "</table>\n",
       "</div>"
      ],
      "text/plain": [
       "            Variable       VIF\n",
       "0    ApplicantIncome  2.834857\n",
       "1  CoapplicantIncome  1.451167\n",
       "2         LoanAmount  3.564141"
      ]
     },
     "execution_count": 38,
     "metadata": {},
     "output_type": "execute_result"
    }
   ],
   "source": [
    "vif_data = pd.DataFrame()\n",
    "vif_data[\"Variable\"] = df_cor_num.columns\n",
    "vif_data[\"VIF\"] = [variance_inflation_factor(df_cor_num.values, i) for i in range(df_cor_num.shape[1])]\n",
    "vif_data"
   ]
  },
  {
   "cell_type": "code",
   "execution_count": 39,
   "metadata": {},
   "outputs": [],
   "source": [
    "df_cor_cat = df_train[categorical_cols]"
   ]
  },
  {
   "cell_type": "code",
   "execution_count": 40,
   "metadata": {},
   "outputs": [],
   "source": [
    "df_cor_cat = pd.get_dummies(df_cor_cat[categorical_cols], drop_first=True)"
   ]
  },
  {
   "cell_type": "code",
   "execution_count": 41,
   "metadata": {},
   "outputs": [
    {
     "name": "stdout",
     "output_type": "stream",
     "text": [
      "Highly correlated pair: Gender_Male - Married_Yes (Correlation: 0.36)\n",
      "Highly correlated pair: Property_Area_Semiurban - Property_Area_Urban (Correlation: -0.55)\n"
     ]
    }
   ],
   "source": [
    "corr_matrix = df_cor_cat.corr()\n",
    "threshold = 0.3\n",
    "high_corr_pairs = np.where(np.abs(corr_matrix) > threshold)\n",
    "\n",
    "\n",
    "for i, j in zip(*high_corr_pairs):\n",
    "    if i != j and i < j:  # Avoid duplicate pairs and self-correlations\n",
    "        print(f\"Highly correlated pair: {df_cor_cat.columns[i]} - {df_cor_cat.columns[j]} (Correlation: {corr_matrix.iloc[i, j]:.2f})\")"
   ]
  },
  {
   "cell_type": "markdown",
   "metadata": {},
   "source": [
    "-----------------------------------"
   ]
  },
  {
   "cell_type": "markdown",
   "metadata": {},
   "source": [
    "Outliers handling"
   ]
  },
  {
   "cell_type": "code",
   "execution_count": 54,
   "metadata": {},
   "outputs": [],
   "source": [
    "train = df_train.copy()\n",
    "test = df_test.copy()"
   ]
  },
  {
   "cell_type": "code",
   "execution_count": 55,
   "metadata": {},
   "outputs": [
    {
     "data": {
      "text/plain": [
       "Text(0.5, 1.0, 'Loan Amount')"
      ]
     },
     "execution_count": 55,
     "metadata": {},
     "output_type": "execute_result"
    },
    {
     "data": {
      "image/png": "[encoded data removed]",
      "text/plain": [
       "<Figure size 432x288 with 1 Axes>"
      ]
     },
     "metadata": {
      "needs_background": "light"
     },
     "output_type": "display_data"
    }
   ],
   "source": [
    "plt.subplot(221)\n",
    "train['LoanAmount'].hist(bins=20)\n",
    "plt.title('Loan Amount')"
   ]
  },
  {
   "cell_type": "code",
   "execution_count": 56,
   "metadata": {},
   "outputs": [],
   "source": [
    "train['TotalIncome'] = train['ApplicantIncome'] + train['CoapplicantIncome']\n",
    "test['TotalIncome'] = test['ApplicantIncome'] + test['CoapplicantIncome']"
   ]
  },
  {
   "cell_type": "code",
   "execution_count": 57,
   "metadata": {},
   "outputs": [],
   "source": [
    "def log_variables(x):\n",
    "    if x>0:\n",
    "        return np.log(x)\n",
    "    else:\n",
    "        return 0\n",
    "\n",
    "columns_with_outliers = ['LoanAmount', 'ApplicantIncome', 'CoapplicantIncome', 'TotalIncome']\n",
    "\n",
    "train[columns_with_outliers] = train[columns_with_outliers].applymap(log_variables)\n",
    "train.rename(columns={col: col + '_log' for col in columns_with_outliers}, inplace=True)\n",
    "\n",
    "test[columns_with_outliers] = test[columns_with_outliers].applymap(log_variables)\n",
    "test.rename(columns={col: col + '_log' for col in columns_with_outliers}, inplace=True)"
   ]
  },
  {
   "cell_type": "code",
   "execution_count": 58,
   "metadata": {},
   "outputs": [
    {
     "data": {
      "image/png": "[encoded data removed]",
      "text/plain": [
       "<Figure size 432x288 with 1 Axes>"
      ]
     },
     "metadata": {
      "needs_background": "light"
     },
     "output_type": "display_data"
    }
   ],
   "source": [
    "plt.subplot(221)\n",
    "train['LoanAmount_log'].hist(bins=20)\n",
    "plt.title('Loan Amount (log)')\n",
    "plt.show()\n"
   ]
  },
  {
   "cell_type": "markdown",
   "metadata": {},
   "source": [
    "-------------------------------------"
   ]
  },
  {
   "cell_type": "markdown",
   "metadata": {},
   "source": [
    "Train-Test Split"
   ]
  },
  {
   "cell_type": "code",
   "execution_count": 59,
   "metadata": {
    "scrolled": true
   },
   "outputs": [
    {
     "name": "stdout",
     "output_type": "stream",
     "text": [
      "Training set shape: (552, 10) (552,)\n",
      "Validation set shape: (62, 10) (62,)\n"
     ]
    }
   ],
   "source": [
    "dropList = ['ApplicantIncome_log', 'CoapplicantIncome_log']\n",
    "test = test.drop(columns=dropList)\n",
    "dropList.append('Loan_Status')\n",
    "X = train.drop(columns=dropList, axis = 1)\n",
    "y = train['Loan_Status']\n",
    "\n",
    "\n",
    "X_train, X_val, y_train, y_val = train_test_split(X, y, test_size=0.1, random_state=42)\n",
    "\n",
    "print(\"Training set shape:\", X_train.shape, y_train.shape)\n",
    "print(\"Validation set shape:\", X_val.shape, y_val.shape)"
   ]
  },
  {
   "cell_type": "markdown",
   "metadata": {},
   "source": [
    "When specifying a random seed the split method uses this values to  generate random indices for splitting the data into training and validation sets. \n",
    "This ensures that the random numbers generated by this code will be reproducible in future runs"
   ]
  },
  {
   "cell_type": "markdown",
   "metadata": {},
   "source": [
    "Here I will re-set the variables in the 2 lists"
   ]
  },
  {
   "cell_type": "code",
   "execution_count": 60,
   "metadata": {},
   "outputs": [],
   "source": [
    "#numerical_cols = ['ApplicantIncome_log', 'CoapplicantIncome_log', 'LoanAmount_log']\n",
    "numerical_cols = ['TotalIncome_log', 'LoanAmount_log']\n",
    "categorical_cols = ['Gender', 'Married', 'Dependents', 'Education', 'Self_Employed', 'Property_Area', 'Loan_Amount_Term', 'Credit_History']\n",
    "\n",
    "\n",
    "#numerical_transformer = MinMaxScaler()\n",
    "numerical_transformer = StandardScaler()\n",
    "#categorical_transformer = OneHotEncoder(handle_unknown='ignore')\n",
    "categorical_transformer = OrdinalEncoder(handle_unknown='use_encoded_value', unknown_value=-1)\n",
    "\n",
    "preprocessor = ColumnTransformer(transformers=[\n",
    "    ('num', numerical_transformer, numerical_cols),\n",
    "    ('cat', categorical_transformer, categorical_cols)\n",
    "])\n",
    "\n",
    "preprocessing_pipeline = Pipeline(steps=[\n",
    "    ('preprocessor', preprocessor)\n",
    "])\n",
    "\n",
    "\n",
    "X_train_preprocessed = preprocessing_pipeline.fit_transform(X_train)\n",
    "X_val_preprocessed = preprocessing_pipeline.transform(X_val)\n",
    "X_test_preprocessed = preprocessing_pipeline.transform(test)"
   ]
  },
  {
   "cell_type": "code",
   "execution_count": 65,
   "metadata": {},
   "outputs": [],
   "source": [
    "def create_rf_model(gridSearch, metric):\n",
    "    with warnings.catch_warnings():\n",
    "        warnings.filterwarnings('ignore')\n",
    "        \n",
    "        if gridSearch:\n",
    "            param_grid = {\n",
    "            'n_estimators': [20, 50, 100],\n",
    "            'max_depth': [2, 4, 6],\n",
    "            'min_samples_split': [2, 5, 8],\n",
    "            'min_samples_leaf': [2, 4],\n",
    "             }\n",
    "  \n",
    "            rf_model = RandomForestClassifier(random_state=42)\n",
    "             \n",
    "            grid_search = GridSearchCV(estimator=rf_model, param_grid=param_grid, cv=5, scoring=metric)\n",
    "     \n",
    "            grid_search.fit(X_train_preprocessed, y_train)\n",
    "            best_params = grid_search.best_params_\n",
    "            best_score = grid_search.best_score_\n",
    "            print(best_params)\n",
    "            rf_model = RandomForestClassifier(**best_params, random_state=42)\n",
    "            \n",
    "        else:\n",
    "            rf_model = RandomForestClassifier(n_estimators=20, \n",
    "                                              max_depth=2, \n",
    "                                              min_samples_split=2, \n",
    "                                              min_samples_leaf=2, \n",
    "                                              class_weight='balanced', \n",
    "                                              random_state=42)\n",
    "            \n",
    "    return rf_model\n",
    "            \n",
    "    \n",
    "basic_model = create_rf_model(False, 'precision')\n",
    "basic_model.fit(X_train_preprocessed, y_train)\n",
    "y_train_pred = basic_model.predict(X_train_preprocessed)\n",
    "y_val_pred = basic_model.predict(X_val_preprocessed)"
   ]
  },
  {
   "cell_type": "code",
   "execution_count": 66,
   "metadata": {},
   "outputs": [
    {
     "name": "stdout",
     "output_type": "stream",
     "text": [
      "Performance on the training set:\n",
      "Accuracy: 0.8260869565217391\n",
      "Precision: 0.8145695364238411\n",
      "Recall: 0.968503937007874\n",
      "F1-score: 0.8848920863309353\n",
      "Confusion Matrix:\n",
      "[[ 87  84]\n",
      " [ 12 369]]\n"
     ]
    }
   ],
   "source": [
    "print(\"Performance on the training set:\")\n",
    "print(\"Accuracy:\", accuracy_score(y_train, y_train_pred))\n",
    "print(\"Precision:\", precision_score(y_train, y_train_pred, pos_label='Y'))\n",
    "print(\"Recall:\", recall_score(y_train, y_train_pred, pos_label='Y'))\n",
    "print(\"F1-score:\", f1_score(y_train, y_train_pred, pos_label='Y'))\n",
    "print(\"Confusion Matrix:\")\n",
    "print(confusion_matrix(y_train, y_train_pred))"
   ]
  },
  {
   "cell_type": "code",
   "execution_count": 67,
   "metadata": {},
   "outputs": [
    {
     "name": "stdout",
     "output_type": "stream",
     "text": [
      "\n",
      "Performance on the validation set:\n",
      "Accuracy: 0.7741935483870968\n",
      "Precision: 0.7547169811320755\n",
      "Recall: 0.975609756097561\n",
      "F1-score: 0.851063829787234\n",
      "Confusion Matrix:\n",
      "[[ 8 13]\n",
      " [ 1 40]]\n"
     ]
    }
   ],
   "source": [
    "print(\"\\nPerformance on the validation set:\")\n",
    "print(\"Accuracy:\", accuracy_score(y_val, y_val_pred))\n",
    "print(\"Precision:\", precision_score(y_val, y_val_pred, pos_label='Y'))\n",
    "print(\"Recall:\", recall_score(y_val, y_val_pred, pos_label='Y'))\n",
    "print(\"F1-score:\", f1_score(y_val, y_val_pred, pos_label='Y'))\n",
    "print(\"Confusion Matrix:\")\n",
    "print(confusion_matrix(y_val, y_val_pred))"
   ]
  },
  {
   "cell_type": "markdown",
   "metadata": {},
   "source": [
    "----------------------------"
   ]
  },
  {
   "cell_type": "markdown",
   "metadata": {},
   "source": [
    "Feature importances"
   ]
  },
  {
   "cell_type": "code",
   "execution_count": 68,
   "metadata": {},
   "outputs": [
    {
     "data": {
      "image/png": "[encoded data removed]",
      "text/plain": [
       "<Figure size 720x432 with 1 Axes>"
      ]
     },
     "metadata": {
      "needs_background": "light"
     },
     "output_type": "display_data"
    }
   ],
   "source": [
    "def extractFeatureImportances(model_name):\n",
    "    \"\"\"Extracts and plots feature importances \n",
    "    for the RF model sorted by importance\n",
    "    \"\"\"\n",
    "\n",
    "    feature_importances = model_name.feature_importances_\n",
    "    feature_names = X_train.columns  # Assuming X_train is your training data\n",
    "\n",
    "    sorted_indices = feature_importances.argsort()[::-1]\n",
    "    sorted_importances = feature_importances[sorted_indices]\n",
    "    sorted_names = feature_names[sorted_indices]\n",
    "\n",
    "    plt.figure(figsize=(10, 6))\n",
    "    plt.barh(range(len(sorted_importances)), sorted_importances, tick_label=sorted_names)\n",
    "    plt.xlabel('Feature Importance')\n",
    "    plt.ylabel('Feature')\n",
    "    plt.title('Random Forest Feature Importances')\n",
    "    plt.show()\n",
    "    \n",
    "    \n",
    "extractFeatureImportances(basic_model)"
   ]
  },
  {
   "cell_type": "markdown",
   "metadata": {},
   "source": [
    "--------------------------"
   ]
  },
  {
   "cell_type": "markdown",
   "metadata": {},
   "source": [
    "Using Cross-Validation"
   ]
  },
  {
   "cell_type": "code",
   "execution_count": 69,
   "metadata": {},
   "outputs": [],
   "source": [
    "rf_model_cv = RandomForestClassifier(n_estimators=20, \n",
    "                                     max_depth=2, \n",
    "                                     min_samples_split=2, \n",
    "                                     min_samples_leaf=2, \n",
    "                                     class_weight='balanced',\n",
    "                                     random_state=42)"
   ]
  },
  {
   "cell_type": "code",
   "execution_count": 70,
   "metadata": {},
   "outputs": [],
   "source": [
    "X_preprocessed = preprocessing_pipeline.fit_transform(X)"
   ]
  },
  {
   "cell_type": "code",
   "execution_count": 71,
   "metadata": {},
   "outputs": [
    {
     "name": "stdout",
     "output_type": "stream",
     "text": [
      "Cross-Validation Scores (F1-score): [0.81609195 0.87912088 0.86956522 0.86315789 0.87234043]\n",
      "Average score: 0.8600552741607859\n"
     ]
    }
   ],
   "source": [
    "custom_scorer = make_scorer(f1_score, pos_label='Y')\n",
    "\n",
    "kf = KFold(n_splits=5, shuffle=True, random_state=42)\n",
    "cv_scores = cross_val_score(rf_model_cv, X_preprocessed, y, cv=kf, scoring=custom_scorer)\n",
    "\n",
    "print(\"Cross-Validation Scores (F1-score):\", cv_scores)\n",
    "print(\"Average score:\", cv_scores.mean())"
   ]
  },
  {
   "cell_type": "code",
   "execution_count": 72,
   "metadata": {},
   "outputs": [
    {
     "data": {
      "text/plain": [
       "RandomForestClassifier(class_weight='balanced', max_depth=2, min_samples_leaf=2,\n",
       "                       n_estimators=20, random_state=42)"
      ]
     },
     "execution_count": 72,
     "metadata": {},
     "output_type": "execute_result"
    }
   ],
   "source": [
    "rf_model_cv.fit(X_preprocessed, y)"
   ]
  },
  {
   "cell_type": "code",
   "execution_count": 73,
   "metadata": {},
   "outputs": [
    {
     "data": {
      "image/png": "[encoded data removed]",
      "text/plain": [
       "<Figure size 720x432 with 1 Axes>"
      ]
     },
     "metadata": {
      "needs_background": "light"
     },
     "output_type": "display_data"
    }
   ],
   "source": [
    "extractFeatureImportances(rf_model_cv)"
   ]
  },
  {
   "cell_type": "code",
   "execution_count": 74,
   "metadata": {},
   "outputs": [],
   "source": [
    "predictions = rf_model_cv.predict(X_test_preprocessed)"
   ]
  },
  {
   "cell_type": "code",
   "execution_count": 75,
   "metadata": {},
   "outputs": [],
   "source": [
    "def export(model, model_filename, csv_name):\n",
    "    dump(rf_model_cv, model_filename)\n",
    "    \n",
    "    df_test_initial['Loan_Status_Prediction'] = predictions\n",
    "    df_test_initial.to_csv(csv_name)"
   ]
  },
  {
   "cell_type": "code",
   "execution_count": 76,
   "metadata": {},
   "outputs": [],
   "source": [
    "export(rf_model_cv, 'rf_model_cv.joblib', 'test_predictions_df.csv' )"
   ]
  },
  {
   "cell_type": "code",
   "execution_count": null,
   "metadata": {},
   "outputs": [],
   "source": []
  },
  {
   "cell_type": "code",
   "execution_count": 77,
   "metadata": {},
   "outputs": [
    {
     "data": {
      "text/html": [
       "<div>\n",
       "<style scoped>\n",
       "    .dataframe tbody tr th:only-of-type {\n",
       "        vertical-align: middle;\n",
       "    }\n",
       "\n",
       "    .dataframe tbody tr th {\n",
       "        vertical-align: top;\n",
       "    }\n",
       "\n",
       "    .dataframe thead th {\n",
       "        text-align: right;\n",
       "    }\n",
       "</style>\n",
       "<table border=\"1\" class=\"dataframe\">\n",
       "  <thead>\n",
       "    <tr style=\"text-align: right;\">\n",
       "      <th></th>\n",
       "      <th>Gender</th>\n",
       "      <th>Married</th>\n",
       "      <th>Dependents</th>\n",
       "      <th>Education</th>\n",
       "      <th>Self_Employed</th>\n",
       "      <th>LoanAmount_log</th>\n",
       "      <th>Loan_Amount_Term</th>\n",
       "      <th>Credit_History</th>\n",
       "      <th>Property_Area</th>\n",
       "      <th>TotalIncome_log</th>\n",
       "    </tr>\n",
       "  </thead>\n",
       "  <tbody>\n",
       "    <tr>\n",
       "      <th>0</th>\n",
       "      <td>Male</td>\n",
       "      <td>No</td>\n",
       "      <td>0</td>\n",
       "      <td>Graduate</td>\n",
       "      <td>No</td>\n",
       "      <td>4.986426</td>\n",
       "      <td>360.0</td>\n",
       "      <td>1.0</td>\n",
       "      <td>Urban</td>\n",
       "      <td>8.674026</td>\n",
       "    </tr>\n",
       "    <tr>\n",
       "      <th>1</th>\n",
       "      <td>Male</td>\n",
       "      <td>Yes</td>\n",
       "      <td>1</td>\n",
       "      <td>Graduate</td>\n",
       "      <td>No</td>\n",
       "      <td>4.852030</td>\n",
       "      <td>360.0</td>\n",
       "      <td>1.0</td>\n",
       "      <td>Rural</td>\n",
       "      <td>8.714568</td>\n",
       "    </tr>\n",
       "    <tr>\n",
       "      <th>2</th>\n",
       "      <td>Male</td>\n",
       "      <td>Yes</td>\n",
       "      <td>0</td>\n",
       "      <td>Graduate</td>\n",
       "      <td>Yes</td>\n",
       "      <td>4.189655</td>\n",
       "      <td>360.0</td>\n",
       "      <td>1.0</td>\n",
       "      <td>Urban</td>\n",
       "      <td>8.006368</td>\n",
       "    </tr>\n",
       "    <tr>\n",
       "      <th>3</th>\n",
       "      <td>Male</td>\n",
       "      <td>Yes</td>\n",
       "      <td>0</td>\n",
       "      <td>Not Graduate</td>\n",
       "      <td>No</td>\n",
       "      <td>4.787492</td>\n",
       "      <td>360.0</td>\n",
       "      <td>1.0</td>\n",
       "      <td>Urban</td>\n",
       "      <td>8.505323</td>\n",
       "    </tr>\n",
       "    <tr>\n",
       "      <th>4</th>\n",
       "      <td>Male</td>\n",
       "      <td>No</td>\n",
       "      <td>0</td>\n",
       "      <td>Graduate</td>\n",
       "      <td>No</td>\n",
       "      <td>4.948760</td>\n",
       "      <td>360.0</td>\n",
       "      <td>1.0</td>\n",
       "      <td>Urban</td>\n",
       "      <td>8.699515</td>\n",
       "    </tr>\n",
       "    <tr>\n",
       "      <th>...</th>\n",
       "      <td>...</td>\n",
       "      <td>...</td>\n",
       "      <td>...</td>\n",
       "      <td>...</td>\n",
       "      <td>...</td>\n",
       "      <td>...</td>\n",
       "      <td>...</td>\n",
       "      <td>...</td>\n",
       "      <td>...</td>\n",
       "      <td>...</td>\n",
       "    </tr>\n",
       "    <tr>\n",
       "      <th>609</th>\n",
       "      <td>Female</td>\n",
       "      <td>No</td>\n",
       "      <td>0</td>\n",
       "      <td>Graduate</td>\n",
       "      <td>No</td>\n",
       "      <td>4.262680</td>\n",
       "      <td>360.0</td>\n",
       "      <td>1.0</td>\n",
       "      <td>Rural</td>\n",
       "      <td>7.972466</td>\n",
       "    </tr>\n",
       "    <tr>\n",
       "      <th>610</th>\n",
       "      <td>Male</td>\n",
       "      <td>Yes</td>\n",
       "      <td>3+</td>\n",
       "      <td>Graduate</td>\n",
       "      <td>No</td>\n",
       "      <td>3.688879</td>\n",
       "      <td>180.0</td>\n",
       "      <td>1.0</td>\n",
       "      <td>Rural</td>\n",
       "      <td>8.320205</td>\n",
       "    </tr>\n",
       "    <tr>\n",
       "      <th>611</th>\n",
       "      <td>Male</td>\n",
       "      <td>Yes</td>\n",
       "      <td>1</td>\n",
       "      <td>Graduate</td>\n",
       "      <td>No</td>\n",
       "      <td>5.533389</td>\n",
       "      <td>360.0</td>\n",
       "      <td>1.0</td>\n",
       "      <td>Urban</td>\n",
       "      <td>9.025456</td>\n",
       "    </tr>\n",
       "    <tr>\n",
       "      <th>612</th>\n",
       "      <td>Male</td>\n",
       "      <td>Yes</td>\n",
       "      <td>2</td>\n",
       "      <td>Graduate</td>\n",
       "      <td>No</td>\n",
       "      <td>5.231109</td>\n",
       "      <td>360.0</td>\n",
       "      <td>1.0</td>\n",
       "      <td>Urban</td>\n",
       "      <td>8.933664</td>\n",
       "    </tr>\n",
       "    <tr>\n",
       "      <th>613</th>\n",
       "      <td>Female</td>\n",
       "      <td>No</td>\n",
       "      <td>0</td>\n",
       "      <td>Graduate</td>\n",
       "      <td>Yes</td>\n",
       "      <td>4.890349</td>\n",
       "      <td>360.0</td>\n",
       "      <td>0.0</td>\n",
       "      <td>Semiurban</td>\n",
       "      <td>8.430109</td>\n",
       "    </tr>\n",
       "  </tbody>\n",
       "</table>\n",
       "<p>614 rows × 10 columns</p>\n",
       "</div>"
      ],
      "text/plain": [
       "     Gender Married Dependents     Education Self_Employed  LoanAmount_log  \\\n",
       "0      Male      No          0      Graduate            No        4.986426   \n",
       "1      Male     Yes          1      Graduate            No        4.852030   \n",
       "2      Male     Yes          0      Graduate           Yes        4.189655   \n",
       "3      Male     Yes          0  Not Graduate            No        4.787492   \n",
       "4      Male      No          0      Graduate            No        4.948760   \n",
       "..      ...     ...        ...           ...           ...             ...   \n",
       "609  Female      No          0      Graduate            No        4.262680   \n",
       "610    Male     Yes         3+      Graduate            No        3.688879   \n",
       "611    Male     Yes          1      Graduate            No        5.533389   \n",
       "612    Male     Yes          2      Graduate            No        5.231109   \n",
       "613  Female      No          0      Graduate           Yes        4.890349   \n",
       "\n",
       "     Loan_Amount_Term  Credit_History Property_Area  TotalIncome_log  \n",
       "0               360.0             1.0         Urban         8.674026  \n",
       "1               360.0             1.0         Rural         8.714568  \n",
       "2               360.0             1.0         Urban         8.006368  \n",
       "3               360.0             1.0         Urban         8.505323  \n",
       "4               360.0             1.0         Urban         8.699515  \n",
       "..                ...             ...           ...              ...  \n",
       "609             360.0             1.0         Rural         7.972466  \n",
       "610             180.0             1.0         Rural         8.320205  \n",
       "611             360.0             1.0         Urban         9.025456  \n",
       "612             360.0             1.0         Urban         8.933664  \n",
       "613             360.0             0.0     Semiurban         8.430109  \n",
       "\n",
       "[614 rows x 10 columns]"
      ]
     },
     "execution_count": 77,
     "metadata": {},
     "output_type": "execute_result"
    }
   ],
   "source": []
  },
  {
   "cell_type": "markdown",
   "metadata": {},
   "source": [
    "------------------------ "
   ]
  },
  {
   "cell_type": "markdown",
   "metadata": {},
   "source": [
    "------------------------ "
   ]
  },
  {
   "cell_type": "markdown",
   "metadata": {},
   "source": [
    "<h1> Excercise 2"
   ]
  },
  {
   "cell_type": "code",
   "execution_count": 95,
   "metadata": {},
   "outputs": [],
   "source": [
    "# Re-initiate because I need to preprocess differently in terms of logs\n",
    "train = df_train.copy()\n",
    "test = df_test.copy()"
   ]
  },
  {
   "cell_type": "code",
   "execution_count": 96,
   "metadata": {},
   "outputs": [],
   "source": [
    "columns_with_outliers = ['LoanAmount', 'CoapplicantIncome']\n",
    "\n",
    "train[columns_with_outliers] = train[columns_with_outliers].applymap(log_variables)\n",
    "train.rename(columns={col: col + '_log' for col in columns_with_outliers}, inplace=True)\n",
    "\n",
    "test[columns_with_outliers] = test[columns_with_outliers].applymap(log_variables)\n",
    "test.rename(columns={col: col + '_log' for col in columns_with_outliers}, inplace=True)"
   ]
  },
  {
   "cell_type": "code",
   "execution_count": 97,
   "metadata": {},
   "outputs": [
    {
     "name": "stdout",
     "output_type": "stream",
     "text": [
      "Training set shape: (552, 10) (552,)\n",
      "Validation set shape: (62, 10) (62,)\n"
     ]
    }
   ],
   "source": [
    "from sklearn.linear_model import LinearRegression\n",
    "from sklearn.metrics import mean_squared_error\n",
    "\n",
    "\n",
    "# Define the target variable (ApplicantIncome) and the independent variables (features)\n",
    "X = train.drop(columns=[\"ApplicantIncome\", \"Loan_Status\"])\n",
    "y = train[\"ApplicantIncome\"]\n",
    "\n",
    "\n",
    "X_train, X_val, y_train, y_val = train_test_split(X, y, test_size=0.1, random_state=42)\n",
    "\n",
    "print(\"Training set shape:\", X_train.shape, y_train.shape)\n",
    "print(\"Validation set shape:\", X_val.shape, y_val.shape)"
   ]
  },
  {
   "cell_type": "code",
   "execution_count": 98,
   "metadata": {},
   "outputs": [
    {
     "data": {
      "text/html": [
       "<div>\n",
       "<style scoped>\n",
       "    .dataframe tbody tr th:only-of-type {\n",
       "        vertical-align: middle;\n",
       "    }\n",
       "\n",
       "    .dataframe tbody tr th {\n",
       "        vertical-align: top;\n",
       "    }\n",
       "\n",
       "    .dataframe thead th {\n",
       "        text-align: right;\n",
       "    }\n",
       "</style>\n",
       "<table border=\"1\" class=\"dataframe\">\n",
       "  <thead>\n",
       "    <tr style=\"text-align: right;\">\n",
       "      <th></th>\n",
       "      <th>Gender</th>\n",
       "      <th>Married</th>\n",
       "      <th>Dependents</th>\n",
       "      <th>Education</th>\n",
       "      <th>Self_Employed</th>\n",
       "      <th>CoapplicantIncome_log</th>\n",
       "      <th>LoanAmount_log</th>\n",
       "      <th>Loan_Amount_Term</th>\n",
       "      <th>Credit_History</th>\n",
       "      <th>Property_Area</th>\n",
       "    </tr>\n",
       "  </thead>\n",
       "  <tbody>\n",
       "    <tr>\n",
       "      <th>550</th>\n",
       "      <td>Male</td>\n",
       "      <td>Yes</td>\n",
       "      <td>2</td>\n",
       "      <td>Graduate</td>\n",
       "      <td>Yes</td>\n",
       "      <td>0.0</td>\n",
       "      <td>4.986426</td>\n",
       "      <td>360.0</td>\n",
       "      <td>0.0</td>\n",
       "      <td>Rural</td>\n",
       "    </tr>\n",
       "    <tr>\n",
       "      <th>439</th>\n",
       "      <td>Female</td>\n",
       "      <td>Yes</td>\n",
       "      <td>0</td>\n",
       "      <td>Not Graduate</td>\n",
       "      <td>Yes</td>\n",
       "      <td>0.0</td>\n",
       "      <td>4.927254</td>\n",
       "      <td>360.0</td>\n",
       "      <td>1.0</td>\n",
       "      <td>Rural</td>\n",
       "    </tr>\n",
       "  </tbody>\n",
       "</table>\n",
       "</div>"
      ],
      "text/plain": [
       "     Gender Married Dependents     Education Self_Employed  \\\n",
       "550    Male     Yes          2      Graduate           Yes   \n",
       "439  Female     Yes          0  Not Graduate           Yes   \n",
       "\n",
       "     CoapplicantIncome_log  LoanAmount_log  Loan_Amount_Term  Credit_History  \\\n",
       "550                    0.0        4.986426             360.0             0.0   \n",
       "439                    0.0        4.927254             360.0             1.0   \n",
       "\n",
       "    Property_Area  \n",
       "550         Rural  \n",
       "439         Rural  "
      ]
     },
     "execution_count": 98,
     "metadata": {},
     "output_type": "execute_result"
    }
   ],
   "source": [
    "X_train.head(2)"
   ]
  },
  {
   "cell_type": "code",
   "execution_count": 100,
   "metadata": {},
   "outputs": [],
   "source": [
    "numerical_cols = ['CoapplicantIncome_log', 'LoanAmount_log']\n",
    "categorical_cols = ['Gender', 'Married', 'Dependents', 'Education', 'Self_Employed', 'Property_Area', 'Loan_Amount_Term', 'Credit_History']\n",
    "\n",
    "\n",
    "\n",
    "preprocessor = ColumnTransformer(transformers=[\n",
    "    ('num', numerical_transformer, numerical_cols),\n",
    "    ('cat', categorical_transformer, categorical_cols)\n",
    "])\n",
    "\n",
    "# Create a preprocessing pipeline\n",
    "preprocessing_pipeline = Pipeline(steps=[\n",
    "    ('preprocessor', preprocessor)\n",
    "])\n",
    "\n",
    "\n",
    "\n",
    "\n",
    "X_train_preprocessed = preprocessing_pipeline.fit_transform(X_train)\n",
    "x_val_preprocessed = preprocessing_pipeline.transform(X_val)\n",
    "X_test_preprocessed = preprocessing_pipeline.transform(X_test)"
   ]
  },
  {
   "cell_type": "code",
   "execution_count": 101,
   "metadata": {},
   "outputs": [],
   "source": [
    "# Train a linear regression model on the training data\n",
    "linear_reg_model = LinearRegression()\n",
    "linear_reg_model.fit(X_train_preprocessed, y_train)\n",
    "\n",
    "# Evaluate the model's performance on the testing data\n",
    "y_pred = linear_reg_model.predict(X_val_preprocessed)\n"
   ]
  },
  {
   "cell_type": "code",
   "execution_count": 102,
   "metadata": {},
   "outputs": [
    {
     "data": {
      "text/plain": [
       "(10,)"
      ]
     },
     "execution_count": 102,
     "metadata": {},
     "output_type": "execute_result"
    }
   ],
   "source": [
    "X.columns.shape"
   ]
  },
  {
   "cell_type": "code",
   "execution_count": 103,
   "metadata": {},
   "outputs": [
    {
     "data": {
      "text/plain": [
       "(10,)"
      ]
     },
     "execution_count": 103,
     "metadata": {},
     "output_type": "execute_result"
    }
   ],
   "source": [
    "linear_reg_model.coef_.shape"
   ]
  },
  {
   "cell_type": "code",
   "execution_count": 107,
   "metadata": {},
   "outputs": [
    {
     "name": "stdout",
     "output_type": "stream",
     "text": [
      "3507.7425298296853\n",
      "                 Feature  Coefficient\n",
      "0                 Gender -2039.566841\n",
      "1                Married  2741.861718\n",
      "2             Dependents   906.607034\n",
      "3              Education   833.753360\n",
      "4          Self_Employed    23.915123\n",
      "5  CoapplicantIncome_log  -918.343588\n",
      "6         LoanAmount_log   921.413913\n",
      "7       Loan_Amount_Term    69.375301\n",
      "8         Credit_History  -247.769062\n",
      "9          Property_Area    69.117203\n",
      "Intercept: 6022.51395850832\n"
     ]
    }
   ],
   "source": [
    "absolute_errors = np.abs(y_val - y_pred)\n",
    "mean_absolute_error = np.mean(absolute_errors)\n",
    "print(mean_absolute_error)\n",
    "\n",
    "\n",
    "coefficients_prior = linear_reg_model.coef_\n",
    "intercept = linear_reg_model.intercept_\n",
    "feature_names = X.columns\n",
    "\n",
    "coefficients_df = pd.DataFrame({\n",
    "    \"Feature\": feature_names,\n",
    "    \"Coefficient\": coefficients_prior\n",
    "})\n",
    "\n",
    "print(coefficients_df)\n",
    "print(\"Intercept:\", intercept)\n"
   ]
  },
  {
   "cell_type": "code",
   "execution_count": 115,
   "metadata": {},
   "outputs": [],
   "source": [
    "import shap"
   ]
  },
  {
   "cell_type": "code",
   "execution_count": 116,
   "metadata": {},
   "outputs": [],
   "source": [
    "explainer = shap.Explainer(linear_reg_model, X_train_preprocessed)\n",
    "\n",
    "shap_values = explainer.shap_values(X_train_preprocessed)"
   ]
  },
  {
   "cell_type": "code",
   "execution_count": 119,
   "metadata": {},
   "outputs": [
    {
     "data": {
      "image/png": "[encoded data removed]",
      "text/plain": [
       "<Figure size 576x396 with 2 Axes>"
      ]
     },
     "metadata": {
      "needs_background": "light"
     },
     "output_type": "display_data"
    }
   ],
   "source": [
    "shap.summary_plot(shap_values, X_train_preprocessed, feature_names=X_train.columns)"
   ]
  },
  {
   "cell_type": "code",
   "execution_count": 121,
   "metadata": {},
   "outputs": [
    {
     "ename": "ModuleNotFoundError",
     "evalue": "No module named 'pymc'",
     "output_type": "error",
     "traceback": [
      "\u001b[1;31m---------------------------------------------------------------------------\u001b[0m",
      "\u001b[1;31mModuleNotFoundError\u001b[0m                       Traceback (most recent call last)",
      "\u001b[1;32m<ipython-input-121-e46b348a9125>\u001b[0m in \u001b[0;36m<module>\u001b[1;34m\u001b[0m\n\u001b[1;32m----> 1\u001b[1;33m \u001b[1;32mimport\u001b[0m \u001b[0mpymc\u001b[0m \u001b[1;32mas\u001b[0m \u001b[0mpm\u001b[0m\u001b[1;33m\u001b[0m\u001b[1;33m\u001b[0m\u001b[0m\n\u001b[0m",
      "\u001b[1;31mModuleNotFoundError\u001b[0m: No module named 'pymc'"
     ]
    }
   ],
   "source": [
    "import pymc as pm"
   ]
  },
  {
   "cell_type": "code",
   "execution_count": null,
   "metadata": {},
   "outputs": [],
   "source": []
  },
  {
   "cell_type": "code",
   "execution_count": null,
   "metadata": {},
   "outputs": [],
   "source": []
  },
  {
   "cell_type": "code",
   "execution_count": null,
   "metadata": {},
   "outputs": [],
   "source": []
  },
  {
   "cell_type": "code",
   "execution_count": null,
   "metadata": {},
   "outputs": [],
   "source": [
    "# Coefficients and standard errors from previous linear regression (replace with your values)\n",
    "prev_beta_0 = 3.5\n",
    "prev_beta_1 = 1.2\n",
    "prev_sigma_beta_0 = 0.8  # Standard error for beta_0prev_sigma_beta_1 = 0.3  # Standard error for beta_1# Simulate some data (replace with your actual data)x = range(10)\n",
    "y = [2*i + np.random.randn() for i in x]\n",
    "# Define the modelmode \n",
    "model = pm.Model()\n",
    "    with model:\n",
    "      # Define priors based on previous regression results  beta_0 = pm.Normal('beta_0', mu=prev_beta_0, sd=prev_sigma_beta_0)\n",
    "    beta_1 = pm.Normal('beta_1', mu=prev_beta_1, sd=prev_sigma_beta_1)\n",
    "\n",
    "      # Linear model for y  y_pred = beta_0 + beta_1 * x\n",
    "      # Likelihood (assuming normally distributed errors)  likelihood = pm.Normal('y', mu=y_pred, sd=1, observed=y)\n",
    "\n",
    "      # Inference with MCMC\n",
    "      trace = pm.sample(1000, tune=1000)"
   ]
  },
  {
   "cell_type": "code",
   "execution_count": null,
   "metadata": {},
   "outputs": [],
   "source": []
  }
 ],
 "metadata": {
  "kernelspec": {
   "display_name": "Python 3",
   "language": "python",
   "name": "python3"
  },
  "language_info": {
   "codemirror_mode": {
    "name": "ipython",
    "version": 3
   },
   "file_extension": ".py",
   "mimetype": "text/x-python",
   "name": "python",
   "nbconvert_exporter": "python",
   "pygments_lexer": "ipython3",
   "version": "3.7.3"
  }
 },
 "nbformat": 4,
 "nbformat_minor": 4
}
